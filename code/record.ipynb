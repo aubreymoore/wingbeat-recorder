{
 "cells": [
  {
   "cell_type": "code",
   "execution_count": 1,
   "metadata": {},
   "outputs": [],
   "source": [
    "from config import *\n",
    "import wbrec\n",
    "import time"
   ]
  },
  {
   "cell_type": "code",
   "execution_count": 2,
   "metadata": {},
   "outputs": [
    {
     "name": "stdout",
     "output_type": "stream",
     "text": [
      "\n",
      "Configuration settings from config.py:\n",
      "DEVICE: 2,0\n",
      "DURATION: 10\n",
      "FORMAT: dat\n",
      "CHANNELS: 1\n",
      "NRECORDINGS: 5\n",
      "CYCLETIME: 120\n",
      "WAVFILE_DIR: wavfiles\n",
      "DEL_WAV: False\n",
      "\n",
      "Running a 1s test recording.\n"
     ]
    },
    {
     "name": "stderr",
     "output_type": "stream",
     "text": [
      "Recording WAVE 'wavfiles/2025-04-19T08:02:11+08:00.wav' : Signed 16 bit Little Endian, Rate 48000 Hz, Mono\n"
     ]
    },
    {
     "name": "stdout",
     "output_type": "stream",
     "text": [
      "Test recording saved to wavfiles/2025-04-19T08:02:11+08:00.wav\n",
      "Test recording removed from wavfiles/2025-04-19T08:02:11+08:00.wav\n",
      "Test recording was a success\n",
      "\n"
     ]
    },
    {
     "name": "stderr",
     "output_type": "stream",
     "text": [
      "Recording WAVE 'wavfiles/2025-04-19T08:02:12+08:00.wav' : Signed 16 bit Little Endian, Rate 48000 Hz, Mono\n"
     ]
    },
    {
     "name": "stdout",
     "output_type": "stream",
     "text": [
      "analyzing wavfiles/2025-04-19T08:02:12+08:00.wav\n",
      "waiting for 94 seconds\n",
      "sleeping for 94s before starting next recording\n",
      "\n"
     ]
    },
    {
     "name": "stderr",
     "output_type": "stream",
     "text": [
      "Recording WAVE 'wavfiles/2025-04-19T08:04:11+08:00.wav' : Signed 16 bit Little Endian, Rate 48000 Hz, Mono\n"
     ]
    },
    {
     "name": "stdout",
     "output_type": "stream",
     "text": [
      "analyzing wavfiles/2025-04-19T08:04:11+08:00.wav\n",
      "waiting for 94 seconds\n",
      "sleeping for 94s before starting next recording\n"
     ]
    },
    {
     "ename": "KeyboardInterrupt",
     "evalue": "",
     "output_type": "error",
     "traceback": [
      "\u001b[0;31m---------------------------------------------------------------------------\u001b[0m",
      "\u001b[0;31mKeyboardInterrupt\u001b[0m                         Traceback (most recent call last)",
      "Cell \u001b[0;32mIn[2], line 24\u001b[0m\n\u001b[1;32m     22\u001b[0m         \u001b[38;5;28mprint\u001b[39m(\u001b[38;5;124mf\u001b[39m\u001b[38;5;124m'\u001b[39m\u001b[38;5;124mwaiting for \u001b[39m\u001b[38;5;132;01m{\u001b[39;00msleeptime\u001b[38;5;132;01m}\u001b[39;00m\u001b[38;5;124m seconds\u001b[39m\u001b[38;5;124m'\u001b[39m)\n\u001b[1;32m     23\u001b[0m         \u001b[38;5;28mprint\u001b[39m(\u001b[38;5;124mf\u001b[39m\u001b[38;5;124m'\u001b[39m\u001b[38;5;124msleeping for \u001b[39m\u001b[38;5;132;01m{\u001b[39;00msleeptime\u001b[38;5;132;01m}\u001b[39;00m\u001b[38;5;124ms before starting next recording\u001b[39m\u001b[38;5;124m'\u001b[39m)\n\u001b[0;32m---> 24\u001b[0m         \u001b[43mtime\u001b[49m\u001b[38;5;241;43m.\u001b[39;49m\u001b[43msleep\u001b[49m\u001b[43m(\u001b[49m\u001b[43msleeptime\u001b[49m\u001b[43m)\u001b[49m\n\u001b[1;32m     26\u001b[0m     \u001b[38;5;28mprint\u001b[39m()\n\u001b[1;32m     28\u001b[0m \u001b[38;5;28mprint\u001b[39m(\u001b[38;5;124m'\u001b[39m\u001b[38;5;124mfinished\u001b[39m\u001b[38;5;124m'\u001b[39m)\n",
      "\u001b[0;31mKeyboardInterrupt\u001b[0m: "
     ]
    }
   ],
   "source": [
    "# run 1s test recording\n",
    "wbrec.display_config()\n",
    "wbrec.run_test_recording()\n",
    "print()\n",
    "\n",
    "for i in range(NRECORDINGS):\n",
    "    \n",
    "    # recording\n",
    "    start_time = time.time()    \n",
    "    wavfile_path = wbrec.record(DEVICE, DURATION, FORMAT, CHANNELS, WAVFILE_DIR)\n",
    "    end_time = time.time()\n",
    "    recording_time = end_time - start_time\n",
    "\n",
    "    # analyze\n",
    "    start_time = time.time()\n",
    "    wbrec.analyze(wavfile_path)\n",
    "    end_time = time.time()\n",
    "    analysis_time = end_time - start_time\n",
    "    \n",
    "    # sleep until time for next recording cycle\n",
    "    sleeptime = int(CYCLETIME - (recording_time + analysis_time))\n",
    "    if sleeptime >= 0:\n",
    "        print(f'sleeping for {sleeptime}s before starting next recording')\n",
    "        time.sleep(sleeptime)\n",
    "        \n",
    "    print()\n",
    "    \n",
    "print('finished')"
   ]
  }
 ],
 "metadata": {
  "kernelspec": {
   "display_name": ".venv",
   "language": "python",
   "name": "python3"
  },
  "language_info": {
   "codemirror_mode": {
    "name": "ipython",
    "version": 3
   },
   "file_extension": ".py",
   "mimetype": "text/x-python",
   "name": "python",
   "nbconvert_exporter": "python",
   "pygments_lexer": "ipython3",
   "version": "3.10.12"
  }
 },
 "nbformat": 4,
 "nbformat_minor": 2
}
