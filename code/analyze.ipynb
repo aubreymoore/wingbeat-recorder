{
 "cells": [
  {
   "cell_type": "code",
   "execution_count": 2,
   "id": "2012d74d",
   "metadata": {},
   "outputs": [],
   "source": [
    "from scipy.io import wavfile\n",
    "from icecream import ic\n",
    "import numpy as np\n",
    "import matplotlib.pyplot as plt\n",
    "from scipy.datasets import electrocardiogram\n",
    "from scipy.signal import find_peaks\n",
    "from glob import glob\n",
    "import os\n",
    "from icecream import ic"
   ]
  },
  {
   "cell_type": "code",
   "execution_count": null,
   "id": "0e4ac64f",
   "metadata": {},
   "outputs": [],
   "source": [
    "# os.makedirs('wavfile_plots', exist_ok=True)\n",
    "# wavfile_names = sorted(glob('wavfiles/*.wav', recursive=True))\n",
    "# for wavfile_name in wavfile_names:\n",
    "#     sr, data = wavfile.read(wavfile_name)\n",
    "#     mean = np.mean(data)\n",
    "#     std = np.std(data)\n",
    "#     height = mean + 5 * std\n",
    "#     ic(mean)\n",
    "#     ic(std)\n",
    "#     ic(height)\n",
    "#     ic(np.max(data))\n",
    "    \n",
    "#     peaks, _ = find_peaks(data, height=height, distance=10000)\n",
    "#     plt.plot(data)\n",
    "#     plt.plot(peaks, data[peaks], 'x')\n",
    "#     plt.plot(np.zeros_like(data), '--', color='gray')\n",
    "    \n",
    "#     plotfile = wavfile_name.replace('wavfiles', 'wavfile_plots').replace('.wav', '.png')\n",
    "#     plt.savefig(plotfile)\n",
    "#     plt.close()"
   ]
  },
  {
   "cell_type": "code",
   "execution_count": 29,
   "id": "76796ab9",
   "metadata": {},
   "outputs": [],
   "source": [
    "def extract_transients(wavfile_path: str, transient_dir: str, plot_peaks: bool, transient_width: int)->None:\n",
    "    \"\"\"\n",
    "    Extract transients from a wav file and save them as separate wav files.\n",
    "    \"\"\"\n",
    "    \n",
    "    # Create the directory for transients if it doesn't exist\n",
    "    os.makedirs(transient_dir, exist_ok=True)\n",
    "    \n",
    "    # Calculate the height parameter for the find_peaks function\n",
    "    sr, data = wavfile.read(wavfile_path)\n",
    "    mean = np.mean(data)\n",
    "    std = np.std(data)\n",
    "    height = mean + 5 * std\n",
    "    \n",
    "    peaks, _ = find_peaks(data, height=height, distance=transient_width)\n",
    "    \n",
    "    for peak in peaks:\n",
    "        start = peak - transient_width // 2\n",
    "        stop = peak + transient_width // 2\n",
    "        if start >= 0 and stop <= len(data):\n",
    "            transient = data[start:stop]\n",
    "        \n",
    "            # Normalize the transient\n",
    "            # transient = (transient - np.mean(transient)) / np.std(transient)\n",
    "            \n",
    "            # Calculate time between the start of the wav file and the start of the transient\n",
    "            seconds = start/sr\n",
    "            \n",
    "            # Calculate the new timestamp and use this to name the wav file for the transient\n",
    "            timestamp_str = wavfile_path.split('/')[-1].split('.')[0]  \n",
    "              \n",
    "            # Extract the timestamp from the wav file name\n",
    "            timestamp = datetime.datetime.strptime(timestamp_str, '%Y-%m-%dT%H:%M:%S%z')\n",
    "            \n",
    "            # Add the seconds to the timestamp\n",
    "            new_timestamp = timestamp + datetime.timedelta(seconds=seconds)\n",
    "            \n",
    "            # Create the new wav file name\n",
    "            transient_file_path = f'{transient_dir}/{new_timestamp.isoformat()}.wav'\n",
    "            \n",
    "            # Save the transient as a wav file\n",
    "            wavfile.write(transient_file_path, sr, transient)\n",
    "        \n",
    "    if plot_peaks:\n",
    "        plt.plot(data)\n",
    "        plt.plot(peaks, data[peaks], 'x')\n",
    "        plt.plot(np.zeros_like(data), '--', color='gray')\n",
    "        \n",
    "        plotfile = wavfile_path.replace('wavfiles', 'wavfile_plots').replace('.wav', '.png')\n",
    "        plt.savefig(plotfile)\n",
    "        plt.close()\n",
    "\n",
    "# wavfile_path = 'wavfiles/2025-04-12T14:48:12+08:00.wav'     \n",
    "# transient_width = 10000  \n",
    "# extract_transients(wavfile_path=wavfile_path, transient_dir='transients',  plot_peaks=False, transient_width=transient_width)"
   ]
  },
  {
   "cell_type": "code",
   "execution_count": 19,
   "id": "8410d3ab",
   "metadata": {},
   "outputs": [
    {
     "name": "stderr",
     "output_type": "stream",
     "text": [
      "ic| wavfile_path: 'data/recordings/2025-04-19T09:16:02.945131+08:00.wav'\n",
      "ic| timestamp_str: '2025-04-19T09:16:02.945131+08:00'\n",
      "ic| timestamp.isoformat(): '2025-04-19T09:16:02.945131+08:00'\n",
      "ic| new_timestamp: datetime.datetime(2025, 4, 19, 10, 16, 2, 945131, tzinfo=datetime.timezone(datetime.timedelta(seconds=28800)))\n",
      "ic| new_timestamp.isoformat(): '2025-04-19T10:16:02.945131+08:00'\n"
     ]
    }
   ],
   "source": [
    "import datetime\n",
    "\n",
    "# wavfile_path = 'wavfiles/2025-04-12T14:48:12+08:00.wav' \n",
    "wavfile_path = 'data/recordings/2025-04-19T09:16:02.945131+08:00.wav'\n",
    "ic(wavfile_path)\n",
    "timestamp_str = wavfile_path.split('/')[-1].replace('.wav', '')\n",
    "ic(timestamp_str)\n",
    "timestamp = datetime.datetime.strptime(timestamp_str, '%Y-%m-%dT%H:%M:%S.%f%z')\n",
    "ic(timestamp.isoformat())\n",
    "seconds = 3600\n",
    "new_timestamp = timestamp + datetime.timedelta(seconds=seconds)\n",
    "ic(new_timestamp);\n",
    "ic(new_timestamp.isoformat());\n"
   ]
  },
  {
   "cell_type": "code",
   "execution_count": 6,
   "id": "fcbb9c50",
   "metadata": {},
   "outputs": [],
   "source": [
    "import time\n",
    "\n",
    "time.sleep(0)"
   ]
  }
 ],
 "metadata": {
  "kernelspec": {
   "display_name": ".venv",
   "language": "python",
   "name": "python3"
  },
  "language_info": {
   "codemirror_mode": {
    "name": "ipython",
    "version": 3
   },
   "file_extension": ".py",
   "mimetype": "text/x-python",
   "name": "python",
   "nbconvert_exporter": "python",
   "pygments_lexer": "ipython3",
   "version": "3.10.12"
  }
 },
 "nbformat": 4,
 "nbformat_minor": 5
}
