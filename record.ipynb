{
 "cells": [
  {
   "cell_type": "code",
   "execution_count": 29,
   "metadata": {},
   "outputs": [],
   "source": [
    "import subprocess\n",
    "import datetime\n",
    "from icecream import ic\n",
    "import time"
   ]
  },
  {
   "cell_type": "code",
   "execution_count": 30,
   "metadata": {},
   "outputs": [],
   "source": [
    "DEVICE = '2,0'  # USB device card number and device number (discover with `arecord -l`)\n",
    "DURATION = 10   # duration of each recording in seconds\n",
    "FORMAT = 'dat'  # recording format (choose from: wav, dat, raw, ogg, flac; see arecord docs for details)\n",
    "CHANNELS = 1    # number of channels (1 for mono, 2 for stereo)\n",
    "NRECORDINGS = 5 # number of recordings to make\n",
    "SLEEPTIME = 30  # time to sleep between recordings in seconds\n",
    "WAVFILE_DIR = 'wavfiles' # directory to save the recordings\n",
    "DEL_WAV = False # delete the wav files after processing"
   ]
  },
  {
   "cell_type": "code",
   "execution_count": 31,
   "metadata": {},
   "outputs": [
    {
     "name": "stderr",
     "output_type": "stream",
     "text": [
      "ic| result: CompletedProcess(args=['arecord', '-l'], returncode=0, stdout='**** List of CAPTURE Hardware Devices ****\n",
      "            card 0: PCH [HDA Intel PCH], device 0: ALC1220 Analog [ALC1220 Analog]\n",
      "              Subdevices: 1/1\n",
      "              Subdevice #0: subdevice #0\n",
      "            card 2: "
     ]
    },
    {
     "name": "stderr",
     "output_type": "stream",
     "text": [
      "Creation [Cable Creation], device 0: USB Audio [USB Audio]\n",
      "              Subdevices: 1/1\n",
      "              Subdevice #0: subdevice #0\n",
      "            ', stderr='')\n"
     ]
    }
   ],
   "source": [
    "def list_audio_devices():\n",
    "    \"\"\"List all audio devices using arecord.\"\"\"\n",
    "    try:\n",
    "        result = subprocess.run(['arecord', '-l'], capture_output=True, text=True)\n",
    "        ic(result)\n",
    "    except Exception as e:\n",
    "        print(f\"Error listing audio devices: {e}\")\n",
    "        \n",
    "# list_audi0_devices()"
   ]
  },
  {
   "cell_type": "code",
   "execution_count": 33,
   "metadata": {},
   "outputs": [
    {
     "name": "stderr",
     "output_type": "stream",
     "text": [
      "Recording WAVE 'wavfiles/2025-04-15T08:36:37+08:00.wav' : Signed 16 bit Little Endian, Rate 48000 Hz, Mono\n"
     ]
    },
    {
     "name": "stdout",
     "output_type": "stream",
     "text": [
      "Recording to wavfiles/2025-04-15T08:36:37+08:00.wav...\n"
     ]
    },
    {
     "data": {
      "text/plain": [
       "'wavfiles/2025-04-15T08:36:37+08:00.wav'"
      ]
     },
     "execution_count": 33,
     "metadata": {},
     "output_type": "execute_result"
    }
   ],
   "source": [
    "def record(device, duration, format, channels):\n",
    "    timestamp = datetime.datetime.now().astimezone().replace(microsecond=0).isoformat()\n",
    "    wavfile = f'{WAVFILE_DIR}/{timestamp}.wav'\n",
    "    print(f\"Recording to {wavfile}...\")\n",
    "    command = f'arecord -D hw:{DEVICE} -d {DURATION} -f {FORMAT} -c {CHANNELS} {wavfile}'\n",
    "    subprocess.run(command, shell=True)\n",
    "    return wavfile\n",
    "\n",
    "record(DEVICE, DURATION, FORMAT, CHANNELS)"
   ]
  },
  {
   "cell_type": "code",
   "execution_count": 34,
   "metadata": {},
   "outputs": [],
   "source": [
    "def analyze(wavfile):\n",
    "    print(f'analyzing {wavfile}')"
   ]
  },
  {
   "cell_type": "markdown",
   "metadata": {},
   "source": [
    "# MAIN"
   ]
  },
  {
   "cell_type": "code",
   "execution_count": 35,
   "metadata": {},
   "outputs": [
    {
     "name": "stderr",
     "output_type": "stream",
     "text": [
      "ic| result: CompletedProcess(args=['arecord', '-l'], returncode=0, stdout='**** List of CAPTURE Hardware Devices ****\n",
      "            card 0:"
     ]
    },
    {
     "name": "stderr",
     "output_type": "stream",
     "text": [
      " PCH [HDA Intel PCH], device 0: ALC1220 Analog [ALC1220 Analog]\n",
      "              Subdevices: 1/1\n",
      "              Subdevice #0: subdevice #0\n",
      "            card 2: Creation [Cable Creation], device 0: USB Audio [USB Audio]\n",
      "              Subdevices: 1/1\n",
      "              Subdevice #0: subdevice #0\n",
      "            ', stderr='')\n",
      "Recording WAVE 'wavfiles/2025-04-15T08:36:47+08:00.wav' : Signed 16 bit Little Endian, Rate 48000 Hz, Mono\n"
     ]
    },
    {
     "name": "stdout",
     "output_type": "stream",
     "text": [
      "Recording to wavfiles/2025-04-15T08:36:47+08:00.wav...\n",
      "analyzing wavfiles/2025-04-15T08:36:47+08:00.wav\n",
      "Sleeping for 30 seconds...\n",
      "Recording to wavfiles/2025-04-15T08:37:27+08:00.wav...\n"
     ]
    },
    {
     "name": "stderr",
     "output_type": "stream",
     "text": [
      "Recording WAVE 'wavfiles/2025-04-15T08:37:27+08:00.wav' : Signed 16 bit Little Endian, Rate 48000 Hz, Mono\n"
     ]
    },
    {
     "name": "stdout",
     "output_type": "stream",
     "text": [
      "analyzing wavfiles/2025-04-15T08:37:27+08:00.wav\n",
      "Sleeping for 30 seconds...\n",
      "Recording to wavfiles/2025-04-15T08:38:07+08:00.wav...\n"
     ]
    },
    {
     "name": "stderr",
     "output_type": "stream",
     "text": [
      "Recording WAVE 'wavfiles/2025-04-15T08:38:07+08:00.wav' : Signed 16 bit Little Endian, Rate 48000 Hz, Mono\n"
     ]
    },
    {
     "name": "stdout",
     "output_type": "stream",
     "text": [
      "analyzing wavfiles/2025-04-15T08:38:07+08:00.wav\n",
      "Sleeping for 30 seconds...\n",
      "Recording to wavfiles/2025-04-15T08:38:47+08:00.wav...\n"
     ]
    },
    {
     "name": "stderr",
     "output_type": "stream",
     "text": [
      "Recording WAVE 'wavfiles/2025-04-15T08:38:47+08:00.wav' : Signed 16 bit Little Endian, Rate 48000 Hz, Mono\n"
     ]
    },
    {
     "name": "stdout",
     "output_type": "stream",
     "text": [
      "analyzing wavfiles/2025-04-15T08:38:47+08:00.wav\n",
      "Sleeping for 30 seconds...\n",
      "Recording to wavfiles/2025-04-15T08:39:27+08:00.wav...\n"
     ]
    },
    {
     "name": "stderr",
     "output_type": "stream",
     "text": [
      "Recording WAVE 'wavfiles/2025-04-15T08:39:27+08:00.wav' : Signed 16 bit Little Endian, Rate 48000 Hz, Mono\n"
     ]
    },
    {
     "name": "stdout",
     "output_type": "stream",
     "text": [
      "analyzing wavfiles/2025-04-15T08:39:27+08:00.wav\n",
      "Sleeping for 30 seconds...\n"
     ]
    },
    {
     "name": "stderr",
     "output_type": "stream",
     "text": [
      "ic| 'finished'\n"
     ]
    },
    {
     "data": {
      "text/plain": [
       "'finished'"
      ]
     },
     "execution_count": 35,
     "metadata": {},
     "output_type": "execute_result"
    }
   ],
   "source": [
    "list_audio_devices()\n",
    "\n",
    "for i in range(NRECORDINGS):\n",
    "    wavfile = record(DEVICE, DURATION, FORMAT, CHANNELS)\n",
    "    analyze(wavfile)\n",
    "    print(f\"Sleeping for {SLEEPTIME} seconds...\")\n",
    "    time.sleep(SLEEPTIME)\n",
    "ic('finished')"
   ]
  }
 ],
 "metadata": {
  "kernelspec": {
   "display_name": ".venv",
   "language": "python",
   "name": "python3"
  },
  "language_info": {
   "codemirror_mode": {
    "name": "ipython",
    "version": 3
   },
   "file_extension": ".py",
   "mimetype": "text/x-python",
   "name": "python",
   "nbconvert_exporter": "python",
   "pygments_lexer": "ipython3",
   "version": "3.10.12"
  }
 },
 "nbformat": 4,
 "nbformat_minor": 2
}
