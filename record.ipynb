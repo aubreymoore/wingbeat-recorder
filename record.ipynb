{
 "cells": [
  {
   "cell_type": "code",
   "execution_count": 5,
   "metadata": {},
   "outputs": [],
   "source": [
    "import subprocess\n",
    "import datetime\n",
    "from icecream import ic"
   ]
  },
  {
   "cell_type": "code",
   "execution_count": null,
   "metadata": {},
   "outputs": [],
   "source": [
    "DEVICE = '1,0'  # USB device card number and device number (discover with `arecord -l`)\n",
    "DURATION = 10   # duration of each recording in seconds\n",
    "FORMAT = 'dat'  # recording format (choose from: wav, dat, raw, ogg, flac; see arecord docs for details)\n",
    "CHANNELS = 1    # number of channels (1 for mono, 2 for stereo)\n",
    "NRECORDINGS = 5 # number of recordings to make"
   ]
  },
  {
   "cell_type": "code",
   "execution_count": 7,
   "metadata": {},
   "outputs": [],
   "source": [
    "def record(device, duration, format, channels):\n",
    "    timestamp = datetime.datetime.now().astimezone().replace(microsecond=0).isoformat()\n",
    "    command = f'arecord -D hw:{DEVICE} -d {DURATION} -f {FORMAT} -c {CHANNELS} {timestamp}.wav'\n",
    "    subprocess.run(command, shell=True)"
   ]
  },
  {
   "cell_type": "markdown",
   "metadata": {},
   "source": [
    "# MAIN"
   ]
  },
  {
   "cell_type": "code",
   "execution_count": 8,
   "metadata": {},
   "outputs": [
    {
     "name": "stderr",
     "output_type": "stream",
     "text": [
      "Recording WAVE '2025-04-12T10:32:57+08:00.wav' : Signed 16 bit Little Endian, Rate 48000 Hz, Mono\n",
      "Recording WAVE '2025-04-12T10:33:07+08:00.wav' : Signed 16 bit Little Endian, Rate 48000 Hz, Mono\n",
      "Recording WAVE '2025-04-12T10:33:17+08:00.wav' : Signed 16 bit Little Endian, Rate 48000 Hz, Mono\n",
      "ic| 'finished'\n"
     ]
    },
    {
     "data": {
      "text/plain": [
       "'finished'"
      ]
     },
     "execution_count": 8,
     "metadata": {},
     "output_type": "execute_result"
    }
   ],
   "source": [
    "for i in range(NRECORDINGS):\n",
    "    record(DEVICE, DURATION, FORMAT, CHANNELS)\n",
    "ic('finished')"
   ]
  }
 ],
 "metadata": {
  "kernelspec": {
   "display_name": ".venv",
   "language": "python",
   "name": "python3"
  },
  "language_info": {
   "codemirror_mode": {
    "name": "ipython",
    "version": 3
   },
   "file_extension": ".py",
   "mimetype": "text/x-python",
   "name": "python",
   "nbconvert_exporter": "python",
   "pygments_lexer": "ipython3",
   "version": "3.10.12"
  }
 },
 "nbformat": 4,
 "nbformat_minor": 2
}
