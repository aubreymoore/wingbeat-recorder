{
 "cells": [
  {
   "cell_type": "code",
   "execution_count": 1,
   "id": "2012d74d",
   "metadata": {},
   "outputs": [],
   "source": [
    "from scipy.io import wavfile\n",
    "from icecream import ic\n",
    "import numpy as np\n",
    "import matplotlib.pyplot as plt\n",
    "from scipy.datasets import electrocardiogram\n",
    "from scipy.signal import find_peaks\n",
    "from glob import glob\n",
    "import os"
   ]
  },
  {
   "cell_type": "code",
   "execution_count": 2,
   "id": "bc848e63",
   "metadata": {},
   "outputs": [],
   "source": [
    "# x = peaks[0]\n",
    "# mypeak = data[x-2048 : x+2048]\n",
    "# plt.plot(mypeak)\n",
    "# plt.show()\n"
   ]
  },
  {
   "cell_type": "code",
   "execution_count": 3,
   "id": "0e4ac64f",
   "metadata": {},
   "outputs": [
    {
     "name": "stderr",
     "output_type": "stream",
     "text": [
      "ic| mean: np.float64(-0.37316041666666666)\n",
      "ic| std: np.float64(13.866182305166044)\n",
      "ic| height: np.float64(68.95775110916355)\n",
      "ic| np.max(data): np.int16(149)\n",
      "ic| mean: np.float64(-0.3776125)\n",
      "ic| std: np.float64(4.762578132326064)\n",
      "ic| height: np.float64(23.43527816163032)\n",
      "ic| np.max(data): np.int16(39)\n",
      "ic| mean: np.float64(-0.3776145833333333)\n",
      "ic| std: np.float64(3.082628906705118)\n",
      "ic| height: np.float64(15.035529950192256)\n",
      "ic| np.max(data): np.int16(44)\n",
      "ic| mean: np.float64(-0.37373541666666665)\n",
      "ic| std: np.float64(2.672248383227563)\n",
      "ic| height: np.float64(12.987506499471149)\n",
      "ic| np.max(data): np.int16(33)\n",
      "ic| mean: np.float64(-0.3776)\n",
      "ic| std: np.float64(4.444245050999476)\n",
      "ic| height: np.float64(21.84362525499738)\n",
      "ic| np.max(data): np.int16(50)\n",
      "ic| mean: np.float64(-0.3776333333333333)\n",
      "ic| std: np.float64(3.0189093889828644)\n",
      "ic| height: np.float64(14.716913611580988)\n",
      "ic| np.max(data): np.int16(26)\n",
      "ic| mean: np.float64(-0.37407083333333335)\n",
      "ic| std: np.float64(3.024508253967242)\n",
      "ic| height: np.float64(14.748470436502876)\n",
      "ic| np.max(data): np.int16(32)\n",
      "ic| mean: np.float64(-0.37921666666666665)\n",
      "ic| std: np.float64(8.49983081516267)\n",
      "ic| height: np.float64(42.11993740914668)\n",
      "ic| np.max(data): np.int16(259)\n",
      "ic| mean: np.float64(-0.37060625)\n",
      "ic| std: np.float64(19.40814763849093)\n",
      "ic| height: np.float64(96.67013194245466)\n",
      "ic| np.max(data): np.int16(2606)\n",
      "ic| mean: np.float64(-0.3785395833333333)\n",
      "ic| std: np.float64(26.727896659991462)\n",
      "ic| height: np.float64(133.26094371662398)\n",
      "ic| np.max(data): np.int16(1913)\n",
      "ic| mean: np.float64(-0.36359166666666665)\n",
      "ic| std: np.float64(64.78605255196985)\n",
      "ic| height: np.float64(323.5666710931826)\n",
      "ic| np.max(data): np.int16(1136)\n",
      "ic| mean: np.float64(-0.36903541666666667)\n",
      "ic| std: np.float64(13.391473435657195)\n",
      "ic| height: np.float64(66.58833176161932)\n",
      "ic| np.max(data): np.int16(115)\n",
      "ic| mean: np.float64(-0.38821041666666667)\n",
      "ic| std: np.float64(27.824765777793317)\n",
      "ic| height: np.float64(138.7356184722999)\n",
      "ic| np.max(data): np.int16(1426)\n",
      "ic| mean: np.float64(-0.3758958333333333)\n",
      "ic| std: np.float64(12.81663852793766)\n",
      "ic| height: np.float64(63.70729680635496)\n",
      "ic| np.max(data): np.int16(68)\n",
      "ic| mean: np.float64(-0.381325)\n",
      "ic| std: np.float64(14.82240166924291)\n",
      "ic| height: np.float64(73.73068334621455)\n",
      "ic| np.max(data): np.int16(86)\n"
     ]
    }
   ],
   "source": [
    "os.makedirs('wavfile_plots', exist_ok=True)\n",
    "wavfile_names = sorted(glob('wavfiles/*.wav', recursive=True))\n",
    "for wavfile_name in wavfile_names:\n",
    "    sr, data = wavfile.read(wavfile_name)\n",
    "    mean = np.mean(data)\n",
    "    std = np.std(data)\n",
    "    height = mean + 5 * std\n",
    "    ic(mean)\n",
    "    ic(std)\n",
    "    ic(height)\n",
    "    ic(np.max(data))\n",
    "    \n",
    "    peaks, _ = find_peaks(data, height=height, distance=10000)\n",
    "    plt.plot(data)\n",
    "    plt.plot(peaks, data[peaks], 'x')\n",
    "    plt.plot(np.zeros_like(data), '--', color='gray')\n",
    "    \n",
    "    plotfile = wavfile_name.replace('wavfiles', 'wavfile_plots').replace('.wav', '.png')\n",
    "    plt.savefig(plotfile)\n",
    "    plt.close()"
   ]
  }
 ],
 "metadata": {
  "kernelspec": {
   "display_name": ".venv",
   "language": "python",
   "name": "python3"
  },
  "language_info": {
   "codemirror_mode": {
    "name": "ipython",
    "version": 3
   },
   "file_extension": ".py",
   "mimetype": "text/x-python",
   "name": "python",
   "nbconvert_exporter": "python",
   "pygments_lexer": "ipython3",
   "version": "3.10.12"
  }
 },
 "nbformat": 4,
 "nbformat_minor": 5
}
